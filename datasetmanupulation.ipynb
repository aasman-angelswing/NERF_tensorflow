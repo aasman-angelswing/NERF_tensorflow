{
 "cells": [
  {
   "cell_type": "code",
   "execution_count": 1,
   "metadata": {},
   "outputs": [],
   "source": [
    "import numpy as np\n",
    "import os\n",
    "import glob"
   ]
  },
  {
   "cell_type": "code",
   "execution_count": 4,
   "metadata": {},
   "outputs": [],
   "source": [
    "poses_bounds = np.load(\"/home/aasman/angelswing/NERF_tensorflow/dataset/room/poses_bounds.npy\")\n",
    "poses = poses_bounds[:, :15].reshape(-1, 3, 5) # (N_images, 3, 5)\n"
   ]
  },
  {
   "cell_type": "code",
   "execution_count": 2,
   "metadata": {},
   "outputs": [
    {
     "ename": "NameError",
     "evalue": "name 'Dataset' is not defined",
     "output_type": "error",
     "traceback": [
      "\u001b[0;31m---------------------------------------------------------------------------\u001b[0m",
      "\u001b[0;31mNameError\u001b[0m                                 Traceback (most recent call last)",
      "\u001b[1;32m/home/aasman/angelswing/NERF_tensorflow/datasetmanupulation.ipynb Cell 2\u001b[0m in \u001b[0;36m<cell line: 1>\u001b[0;34m()\u001b[0m\n\u001b[0;32m----> <a href='vscode-notebook-cell:/home/aasman/angelswing/NERF_tensorflow/datasetmanupulation.ipynb#W1sZmlsZQ%3D%3D?line=0'>1</a>\u001b[0m \u001b[39mclass\u001b[39;00m \u001b[39mDataset\u001b[39;00m(Dataset):\n\u001b[1;32m      <a href='vscode-notebook-cell:/home/aasman/angelswing/NERF_tensorflow/datasetmanupulation.ipynb#W1sZmlsZQ%3D%3D?line=1'>2</a>\u001b[0m     \u001b[39mdef\u001b[39;00m \u001b[39m__init__\u001b[39m(\u001b[39mself\u001b[39m, root_dir , img_wh \u001b[39m=\u001b[39m (\u001b[39m504\u001b[39m, \u001b[39m378\u001b[39m)):\n\u001b[1;32m      <a href='vscode-notebook-cell:/home/aasman/angelswing/NERF_tensorflow/datasetmanupulation.ipynb#W1sZmlsZQ%3D%3D?line=2'>3</a>\u001b[0m         \u001b[39mself\u001b[39m\u001b[39m.\u001b[39mroot_dir \u001b[39m=\u001b[39m root_dir\n",
      "\u001b[0;31mNameError\u001b[0m: name 'Dataset' is not defined"
     ]
    }
   ],
   "source": [
    "class Dataset(Dataset):\n",
    "    def __init__(self, split='train', root_dir , img_wh = (504, 378)):\n",
    "        \n",
    "        self.root_dir = root_dir\n",
    "        self.split = split\n",
    "        \n",
    "        self.img_wh = img_wh\n",
    "        \n",
    "        self.read_meta()\n",
    "        \n",
    "    def read_meta(self):\n",
    "        poses_bounds = np.load(os.path.join(self.root_dir,\n",
    "                                            'poses_bounds.npy')) # (N_images, 17)\n",
    "        self.image_paths = sorted(glob.glob(os.path.join(self.root_dir, 'images/*')))\n",
    "        \n",
    "        if self.split in ['train', 'val']:\n",
    "            assert len(poses_bounds) == len(self.image_paths), \\\n",
    "                'Mismatch between number of images and number of poses! Please rerun COLMAP!'\n",
    "\n",
    "        poses = poses_bounds[:, :15].reshape(-1, 3, 5) # (N_images, 3, 5)\n",
    "        self.bounds = poses_bounds[:, -2:] # (N_images, 2)\n",
    "\n",
    "        # Step 1: rescale focal length according to training resolution\n",
    "        H, W, self.focal = poses[0, :, -1] # original intrinsics, same for all images\n",
    "        # assert H*self.img_wh[0] == W*self.img_wh[1], \\\n",
    "        #     f'You must set @img_wh to have the same aspect ratio as ({W}, {H}) !'\n",
    "        \n",
    "        self.focal *= self.img_wh[0]/W"
   ]
  },
  {
   "cell_type": "code",
   "execution_count": null,
   "metadata": {},
   "outputs": [],
   "source": []
  }
 ],
 "metadata": {
  "kernelspec": {
   "display_name": "Python 3.10.4 64-bit",
   "language": "python",
   "name": "python3"
  },
  "language_info": {
   "codemirror_mode": {
    "name": "ipython",
    "version": 3
   },
   "file_extension": ".py",
   "mimetype": "text/x-python",
   "name": "python",
   "nbconvert_exporter": "python",
   "pygments_lexer": "ipython3",
   "version": "3.10.4"
  },
  "orig_nbformat": 4,
  "vscode": {
   "interpreter": {
    "hash": "916dbcbb3f70747c44a77c7bcd40155683ae19c65e1c03b4aa3499c5328201f1"
   }
  }
 },
 "nbformat": 4,
 "nbformat_minor": 2
}
