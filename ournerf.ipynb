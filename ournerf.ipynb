{
 "cells": [
  {
   "cell_type": "code",
   "execution_count": null,
   "metadata": {},
   "outputs": [],
   "source": [
    "import tensorflow as tf\n",
    "import numpy as np\n",
    "import time\n",
    "\n",
    "# setting seed for reproducibility\n",
    "tf.random.set_seed(42)"
   ]
  },
  {
   "cell_type": "code",
   "execution_count": null,
   "metadata": {},
   "outputs": [],
   "source": [
    "# importing the necessary libraries\n",
    "from utils import config\n",
    "from utils.nerf_trainer import NeRF\n",
    "from utils.nerf import get_nerf_model\n",
    "from utils.data import *\n",
    "from rendering import render_videos\n"
   ]
  },
  {
   "cell_type": "code",
   "execution_count": null,
   "metadata": {},
   "outputs": [],
   "source": [
    "gpus = tf.config.list_physical_devices('GPU')\n",
    "if gpus:\n",
    "  try:\n",
    "    # Currently, memory growth needs to be the same across GPUs\n",
    "    for gpu in gpus:\n",
    "      tf.config.experimental.set_memory_growth(gpu, True)\n",
    "    logical_gpus = tf.config.list_logical_devices('GPU')\n",
    "    print(len(gpus), \"Physical GPUs,\", len(logical_gpus), \"Logical GPUs\")\n",
    "  except RuntimeError as e:\n",
    "    # Memory growth must be set before GPUs have been initialized\n",
    "    print(e)\n"
   ]
  },
  {
   "cell_type": "code",
   "execution_count": 2,
   "metadata": {},
   "outputs": [],
   "source": [
    "json_train_data = read_json(config.TRAIN_JSON)\n"
   ]
  },
  {
   "cell_type": "code",
   "execution_count": null,
   "metadata": {},
   "outputs": [],
   "source": [
    "train_image_paths, train_camera_to_world = get_image_c2w(jsonData=json_train_data,\n",
    "                                                         datasetPath=config.DATASET_PATH)\n",
    "train_images = GetImages(train_image_paths)\n",
    "\n"
   ]
  },
  {
   "cell_type": "code",
   "execution_count": 5,
   "metadata": {},
   "outputs": [],
   "source": [
    "train_image_datasets = tf.data.Dataset.from_tensor_slices(train_images)\n",
    "\n",
    "train_pose_dataset = tf.data.Dataset.from_tensor_slices(train_camera_to_world)\n"
   ]
  },
  {
   "cell_type": "code",
   "execution_count": 6,
   "metadata": {},
   "outputs": [],
   "source": [
    "train_rays_dataset = train_pose_dataset.map(map_fn, num_parallel_calls=config.AUTO)\n",
    "\n",
    "train_dataset = tf.data.Dataset.zip((train_image_datasets, train_rays_dataset))\n",
    "\n",
    "train_dataset = (\n",
    "    train_dataset\n",
    "    .shuffle(config.BATCH_SIZE,)\n",
    "    .batch(config.BATCH_SIZE, drop_remainder=True, num_parallel_calls=config.AUTO).\n",
    "    repeat(2)\n",
    "    .prefetch(config.AUTO)\n",
    ")\n"
   ]
  },
  {
   "cell_type": "code",
   "execution_count": 11,
   "metadata": {},
   "outputs": [],
   "source": [
    "num_pos = config.IMAGE_HEIGHT * config.IMAGE_WIDTH * config.NUM_SAMPLES\n",
    "nerf_model = get_nerf_model(num_layers=8, num_pos=num_pos)\n",
    "model = NeRF(nerf_model)\n",
    "\n",
    "model.compile(\n",
    "    optimizer=tf.keras.optimizers.Adam(5e-4), loss_fn=tf.keras.losses.MeanSquaredError()\n",
    ")"
   ]
  },
  {
   "cell_type": "code",
   "execution_count": null,
   "metadata": {},
   "outputs": [],
   "source": [
    "start1 = time.time()\n",
    "loop = 5\n",
    "for i in range(loop):\n",
    "    start = time.time()\n",
    "\n",
    "    model.fit(train_dataset,epochs=config.EPOCHS,)\n",
    "    end = time.time()\n",
    "    print(f\"Total time for {i} epoch is {(end - start)/60} minutes\")\n",
    "    model.nerf_model.save(config.MODEL_PATH ,save_format='tf')\n",
    "end1 = time.time()\n",
    "print(f\"Total time for {loop} epoch is {(end1 - start1)/60} minutes\")"
   ]
  },
  {
   "cell_type": "code",
   "execution_count": null,
   "metadata": {},
   "outputs": [],
   "source": [
    "model = tf.keras.models.load_model(config.MODEL_PATH, compile=False)\n",
    "\n",
    "render_videos(nerf_model=model)\n"
   ]
  }
 ],
 "metadata": {
  "kernelspec": {
   "display_name": "Python 3.10.4 64-bit",
   "language": "python",
   "name": "python3"
  },
  "language_info": {
   "codemirror_mode": {
    "name": "ipython",
    "version": 3
   },
   "file_extension": ".py",
   "mimetype": "text/x-python",
   "name": "python",
   "nbconvert_exporter": "python",
   "pygments_lexer": "ipython3",
   "version": "3.10.4"
  },
  "orig_nbformat": 4,
  "vscode": {
   "interpreter": {
    "hash": "916dbcbb3f70747c44a77c7bcd40155683ae19c65e1c03b4aa3499c5328201f1"
   }
  }
 },
 "nbformat": 4,
 "nbformat_minor": 2
}
